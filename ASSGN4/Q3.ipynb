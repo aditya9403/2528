{
 "cells": [
  {
   "cell_type": "code",
   "execution_count": null,
   "id": "a59f7fc1",
   "metadata": {},
   "outputs": [
    {
     "name": "stdout",
     "output_type": "stream",
     "text": [
      " * Serving Flask app '__main__'\n",
      " * Debug mode: off\n"
     ]
    },
    {
     "name": "stderr",
     "output_type": "stream",
     "text": [
      "WARNING: This is a development server. Do not use it in a production deployment. Use a production WSGI server instead.\n",
      " * Running on http://localhost:5009\n",
      "Press CTRL+C to quit\n",
      "127.0.0.1 - - [18/Sep/2024 17:19:15] \"GET / HTTP/1.1\" 200 -\n",
      "127.0.0.1 - - [18/Sep/2024 17:19:15] \"GET /background.jpg HTTP/1.1\" 404 -\n"
     ]
    }
   ],
   "source": [
    "from flask import Flask, render_template, request, abort\n",
    "\n",
    "app = Flask(__name__)\n",
    "\n",
    "@app.route('/', methods=['GET', 'POST'])\n",
    "def index():\n",
    "    if request.method == 'POST':\n",
    "        username = request.form['username']\n",
    "        password = request.form['password']\n",
    "    \n",
    "        # Check for empty fields\n",
    "        if not username or not password:\n",
    "            abort(400, 'Username and password are required')\n",
    "\n",
    "        # Check password length\n",
    "        if len(password) < 8:\n",
    "            abort(400, 'Password must be at least 8 characters long')\n",
    "\n",
    "        # Check for valid username characters\n",
    "        if not username.isalnum():\n",
    "            abort(400, 'Username can only contain letters and numbers')\n",
    "\n",
    "        # Add forbidden condition (example: forbidding a specific username)\n",
    "        if username.lower() == 'admin':\n",
    "            abort(403, 'Access forbidden for this username')\n",
    "\n",
    "        return 'Form submitted successfully!'\n",
    "    \n",
    "    return render_template('register.html')\n",
    "\n",
    "@app.errorhandler(400)\n",
    "def bad_request_error(e):\n",
    "    return render_template('error.html', error=e.description), 400\n",
    "\n",
    "@app.errorhandler(403)\n",
    "def forbidden_error(e):\n",
    "    return render_template('forbidden.html', error=e.description), 403\n",
    "\n",
    "if __name__ == '__main__':\n",
    "    app.run(host='localhost', port=5009)\n",
    "\n"
   ]
  },
  {
   "cell_type": "code",
   "execution_count": 8,
   "id": "b7470ace",
   "metadata": {},
   "outputs": [
    {
     "name": "stdout",
     "output_type": "stream",
     "text": [
      "Defaulting to user installation because normal site-packages is not writeable\n",
      "Requirement already satisfied: werkzeug in /home/symsc57/.local/lib/python3.9/site-packages (3.0.4)\n",
      "Requirement already satisfied: MarkupSafe>=2.1.1 in /home/symsc57/.local/lib/python3.9/site-packages (from werkzeug) (2.1.5)\n"
     ]
    }
   ],
   "source": [
    "!pip install --upgrade werkzeug"
   ]
  },
  {
   "cell_type": "code",
   "execution_count": null,
   "id": "895e7984",
   "metadata": {},
   "outputs": [],
   "source": []
  }
 ],
 "metadata": {
  "kernelspec": {
   "display_name": "Python 3 (ipykernel)",
   "language": "python",
   "name": "python3"
  },
  "language_info": {
   "codemirror_mode": {
    "name": "ipython",
    "version": 3
   },
   "file_extension": ".py",
   "mimetype": "text/x-python",
   "name": "python",
   "nbconvert_exporter": "python",
   "pygments_lexer": "ipython3",
   "version": "3.9.13"
  }
 },
 "nbformat": 4,
 "nbformat_minor": 5
}
