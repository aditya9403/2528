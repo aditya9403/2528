{
 "cells": [
  {
   "cell_type": "code",
   "execution_count": 7,
   "id": "660a39ed",
   "metadata": {},
   "outputs": [],
   "source": [
    "from flask import Flask"
   ]
  },
  {
   "cell_type": "code",
   "execution_count": 8,
   "id": "12c0ae5b",
   "metadata": {},
   "outputs": [],
   "source": [
    "app=Flask(__name__)"
   ]
  },
  {
   "cell_type": "code",
   "execution_count": 9,
   "id": "8575f313",
   "metadata": {},
   "outputs": [],
   "source": [
    "@app.route('/')\n",
    "def NWC():\n",
    "    return \"Welcome to Nowrosjee Wadia College Pune\""
   ]
  },
  {
   "cell_type": "code",
   "execution_count": null,
   "id": "ff37fb03",
   "metadata": {},
   "outputs": [
    {
     "name": "stdout",
     "output_type": "stream",
     "text": [
      " * Serving Flask app '__main__'\n",
      " * Debug mode: off\n"
     ]
    },
    {
     "name": "stderr",
     "output_type": "stream",
     "text": [
      "WARNING: This is a development server. Do not use it in a production deployment. Use a production WSGI server instead.\n",
      " * Running on http://127.0.0.1:5006\n",
      "Press CTRL+C to quit\n",
      "127.0.0.1 - - [18/Sep/2024 16:59:09] \"GET / HTTP/1.1\" 200 -\n"
     ]
    }
   ],
   "source": [
    "if __name__==\"__main__\":\n",
    "    app.run(port=5006)"
   ]
  },
  {
   "cell_type": "code",
   "execution_count": null,
   "id": "cf679275",
   "metadata": {},
   "outputs": [],
   "source": []
  },
  {
   "cell_type": "code",
   "execution_count": 6,
   "id": "2bbab4bf",
   "metadata": {},
   "outputs": [
    {
     "name": "stdout",
     "output_type": "stream",
     "text": [
      "Defaulting to user installation because normal site-packages is not writeable\n",
      "Requirement already satisfied: Flask in /opt/anaconda/lib/python3.9/site-packages (1.1.2)\n",
      "Collecting Flask\n",
      "  Downloading flask-3.0.3-py3-none-any.whl (101 kB)\n",
      "\u001b[2K     \u001b[38;2;114;156;31m━━━━━━━━━━━━━━━━━━━━━━━━━━━━━━━━━━━━━━━\u001b[0m \u001b[32m101.7/101.7 kB\u001b[0m \u001b[31m1.5 MB/s\u001b[0m eta \u001b[36m0:00:00\u001b[0m MB/s\u001b[0m eta \u001b[36m0:00:01\u001b[0m\n",
      "\u001b[?25hRequirement already satisfied: jinja2 in /home/symsc57/.local/lib/python3.9/site-packages (3.1.4)\n",
      "Collecting Werkzeug>=3.0.0\n",
      "  Downloading werkzeug-3.0.4-py3-none-any.whl (227 kB)\n",
      "\u001b[2K     \u001b[38;2;114;156;31m━━━━━━━━━━━━━━━━━━━━━━━━━━━━━━━━━━━━━━━\u001b[0m \u001b[32m227.6/227.6 kB\u001b[0m \u001b[31m4.0 MB/s\u001b[0m eta \u001b[36m0:00:00\u001b[0mm eta \u001b[36m0:00:01\u001b[0m\n",
      "\u001b[?25hCollecting click>=8.1.3\n",
      "  Downloading click-8.1.7-py3-none-any.whl (97 kB)\n",
      "\u001b[2K     \u001b[38;2;114;156;31m━━━━━━━━━━━━━━━━━━━━━━━━━━━━━━━━━━━━━━━━\u001b[0m \u001b[32m97.9/97.9 kB\u001b[0m \u001b[31m2.8 MB/s\u001b[0m eta \u001b[36m0:00:00\u001b[0m\n",
      "\u001b[?25hRequirement already satisfied: importlib-metadata>=3.6.0 in /opt/anaconda/lib/python3.9/site-packages (from Flask) (4.11.3)\n",
      "Collecting blinker>=1.6.2\n",
      "  Downloading blinker-1.8.2-py3-none-any.whl (9.5 kB)\n",
      "Collecting itsdangerous>=2.1.2\n",
      "  Downloading itsdangerous-2.2.0-py3-none-any.whl (16 kB)\n",
      "Requirement already satisfied: MarkupSafe>=2.0 in /home/symsc57/.local/lib/python3.9/site-packages (from jinja2) (2.1.5)\n",
      "Requirement already satisfied: zipp>=0.5 in /opt/anaconda/lib/python3.9/site-packages (from importlib-metadata>=3.6.0->Flask) (3.8.0)\n",
      "Installing collected packages: Werkzeug, itsdangerous, click, blinker, Flask\n",
      "  Attempting uninstall: Werkzeug\n",
      "    Found existing installation: Werkzeug 2.1.2\n",
      "    Uninstalling Werkzeug-2.1.2:\n",
      "      Successfully uninstalled Werkzeug-2.1.2\n",
      "\u001b[33m  WARNING: The script flask is installed in '/home/symsc57/.local/bin' which is not on PATH.\n",
      "  Consider adding this directory to PATH or, if you prefer to suppress this warning, use --no-warn-script-location.\u001b[0m\u001b[33m\n",
      "\u001b[0m\u001b[31mERROR: pip's dependency resolver does not currently take into account all the packages that are installed. This behaviour is the source of the following dependency conflicts.\n",
      "tensorboard 2.17.1 requires absl-py>=0.4, which is not installed.\n",
      "tensorboard 2.17.1 requires grpcio>=1.48.2, which is not installed.\n",
      "tensorboard 2.17.1 requires protobuf!=4.24.0,>=3.19.6, which is not installed.\n",
      "tensorboard 2.17.1 requires tensorboard-data-server<0.8.0,>=0.7.0, which is not installed.\n",
      "connexion 3.1.0 requires asgiref>=3.4, which is not installed.\n",
      "connexion 3.1.0 requires typing-extensions>=4.6.1, but you have typing-extensions 4.3.0 which is incompatible.\u001b[0m\u001b[31m\n",
      "\u001b[0mSuccessfully installed Flask-3.0.3 Werkzeug-3.0.4 blinker-1.8.2 click-8.1.7 itsdangerous-2.2.0\n"
     ]
    }
   ],
   "source": [
    "!pip install --upgrade Flask jinja2"
   ]
  },
  {
   "cell_type": "code",
   "execution_count": null,
   "id": "d14dbeaa",
   "metadata": {},
   "outputs": [],
   "source": []
  }
 ],
 "metadata": {
  "kernelspec": {
   "display_name": "Python 3 (ipykernel)",
   "language": "python",
   "name": "python3"
  },
  "language_info": {
   "codemirror_mode": {
    "name": "ipython",
    "version": 3
   },
   "file_extension": ".py",
   "mimetype": "text/x-python",
   "name": "python",
   "nbconvert_exporter": "python",
   "pygments_lexer": "ipython3",
   "version": "3.9.13"
  }
 },
 "nbformat": 4,
 "nbformat_minor": 5
}
